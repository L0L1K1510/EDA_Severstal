{
 "cells": [
  {
   "cell_type": "code",
   "execution_count": 1,
   "metadata": {},
   "outputs": [],
   "source": [
    "import pandas as pd\n",
    "import matplotlib.pyplot as plt\n",
    "import seaborn as sns\n",
    "import numpy as np\n",
    "\n",
    "\n",
    "from sklearn.preprocessing import MinMaxScaler"
   ]
  },
  {
   "cell_type": "code",
   "execution_count": 2,
   "metadata": {},
   "outputs": [],
   "source": [
    "df1 = pd.read_csv('tyre_len.csv', sep=';', encoding='cp1251',)\n",
    "df2 = pd.read_csv('tyre_len_2.csv', sep=';', encoding='cp1251',)\n",
    "\n",
    "df_stat = pd.concat([df1, df2], ignore_index=True)\n",
    "df1 = 0;df2 = 0\n",
    "\n",
    "df1 = pd.read_csv('tyre_pres.csv', sep=';', encoding='cp1251',)\n",
    "df2 = pd.read_csv('tyre_pres_2.csv', sep=';', encoding='cp1251',)\n",
    "\n",
    "df_pres = pd.concat([df1, df2], ignore_index=True)\n",
    "df1 = 0;df2 = 0\n",
    "\n",
    "#df.iloc[:, 5] = df.iloc[:, 5].astype('datatime')\n",
    "#df.iloc[:, 6] = df.iloc[:, 6].astype('datatime')\n",
    "#Приведение к числовым типам то что можно привести в явном виде\n",
    "def toint(x):\n",
    "    if isinstance(x, str):\n",
    "        return float(x.replace(',','.'))\n",
    "    else:\n",
    "        return x\n",
    "\n",
    "df_stat.iloc[:, 7] = df_stat.iloc[:, 7].apply(toint)#.astype('float64')\n",
    "df_stat.iloc[:, 8] = df_stat.iloc[:, 8].apply(toint)#.astype('float64')\n",
    "df_stat.iloc[:, 9] = df_stat.iloc[:, 9].apply(toint)#.astype('float64')\n",
    "df_stat.iloc[:, 10] = df_stat.iloc[:, 10].apply(toint)#.astype('float64')\n",
    "df_stat.iloc[:, 18] = df_stat.iloc[:, 18].apply(toint)#.astype('float64')\n",
    "df_stat.iloc[:, 19] = df_stat.iloc[:, 19].apply(toint)#.astype('float64')\n",
    "df_stat.iloc[:, 20] = df_stat.iloc[:, 20].apply(toint)#.astype('float64')\n",
    "\n",
    "ids_bar = set(df_stat['ИД шины'])\n"
   ]
  },
  {
   "cell_type": "code",
   "execution_count": 3,
   "metadata": {},
   "outputs": [],
   "source": [
    "from sklearn.ensemble import RandomForestClassifier"
   ]
  },
  {
   "cell_type": "code",
   "execution_count": 6,
   "metadata": {},
   "outputs": [],
   "source": [
    "features = ['Пробег за инт-л','Общий пробег','Вес за инт-л','Общий вес','Кол-во превышений скорости',\n",
    "            'Ср.скорость с грузом','Ср. скорость без груза', 'Пробег с грузом'\n",
    "\n",
    ",'кол-во перегрузов 5-10%',\n",
    "           'кол-во перегрузов 10-15%','кол-во перегрузов >15%', \n",
    "'Расход топлива']\n",
    "\n",
    "X = df_stat[features].fillna(0)\n",
    "y = ~df_stat['Причина снятия (примечание)'].isna().astype(int)+2"
   ]
  },
  {
   "cell_type": "code",
   "execution_count": 7,
   "metadata": {},
   "outputs": [
    {
     "name": "stderr",
     "output_type": "stream",
     "text": [
      "[Parallel(n_jobs=-1)]: Using backend ThreadingBackend with 4 concurrent workers.\n",
      "[Parallel(n_jobs=-1)]: Done  42 tasks      | elapsed:  1.0min\n",
      "[Parallel(n_jobs=-1)]: Done 192 tasks      | elapsed:  4.4min\n",
      "[Parallel(n_jobs=-1)]: Done 300 out of 300 | elapsed:  6.7min finished\n"
     ]
    },
    {
     "data": {
      "text/plain": [
       "RandomForestClassifier(bootstrap=True, class_weight=None, criterion='gini',\n",
       "                       max_depth=None, max_features='auto', max_leaf_nodes=None,\n",
       "                       min_impurity_decrease=0.0, min_impurity_split=None,\n",
       "                       min_samples_leaf=1, min_samples_split=2,\n",
       "                       min_weight_fraction_leaf=0.0, n_estimators=300,\n",
       "                       n_jobs=-1, oob_score=False, random_state=None,\n",
       "                       verbose=True, warm_start=False)"
      ]
     },
     "execution_count": 7,
     "metadata": {},
     "output_type": "execute_result"
    }
   ],
   "source": [
    "bg = RandomForestClassifier(n_estimators=300, n_jobs=-1, verbose=True)\n",
    "bg.fit(X, y,)\n",
    "\n"
   ]
  },
  {
   "cell_type": "code",
   "execution_count": 8,
   "metadata": {},
   "outputs": [],
   "source": [
    "feat = []\n",
    "for features_, features__ in sorted(zip(bg.feature_importances_, features))[::-1]:\n",
    "    feat.append([features_, features__])"
   ]
  },
  {
   "cell_type": "code",
   "execution_count": 10,
   "metadata": {},
   "outputs": [
    {
     "name": "stdout",
     "output_type": "stream",
     "text": [
      "Stored 'data' (list)\n"
     ]
    }
   ],
   "source": [
    "data = feat\n",
    "%store data\n",
    "#del data # deleted variable"
   ]
  },
  {
   "cell_type": "code",
   "execution_count": 9,
   "metadata": {},
   "outputs": [
    {
     "data": {
      "text/plain": [
       "[[0.17870717175368447, 'Общий пробег'],\n",
       " [0.1600273030398166, 'Общий вес'],\n",
       " [0.12059140555482425, 'Пробег за инт-л'],\n",
       " [0.11631185520478593, 'Вес за инт-л'],\n",
       " [0.1113659568282884, 'Пробег с грузом'],\n",
       " [0.0856541688638687, 'Ср.скорость с грузом'],\n",
       " [0.08433798807690521, 'Ср. скорость без груза'],\n",
       " [0.05698127638781727, 'Расход топлива'],\n",
       " [0.04705751362020972, 'Кол-во превышений скорости'],\n",
       " [0.020670645849079565, 'кол-во перегрузов 5-10%'],\n",
       " [0.013073957763710767, 'кол-во перегрузов 10-15%'],\n",
       " [0.005220757057009033, 'кол-во перегрузов >15%']]"
      ]
     },
     "execution_count": 9,
     "metadata": {},
     "output_type": "execute_result"
    }
   ],
   "source": [
    "feat"
   ]
  },
  {
   "cell_type": "code",
   "execution_count": 53,
   "metadata": {},
   "outputs": [],
   "source": [
    "from sklearn.linear_model import LogisticRegression"
   ]
  },
  {
   "cell_type": "code",
   "execution_count": 54,
   "metadata": {},
   "outputs": [],
   "source": [
    "LogisticRegression?"
   ]
  },
  {
   "cell_type": "code",
   "execution_count": 43,
   "metadata": {},
   "outputs": [
    {
     "name": "stderr",
     "output_type": "stream",
     "text": [
      "[Parallel(n_jobs=-1)]: Using backend ThreadingBackend with 4 concurrent workers.\n",
      "[Parallel(n_jobs=-1)]: Done  42 tasks      | elapsed:   47.5s\n",
      "[Parallel(n_jobs=-1)]: Done 192 tasks      | elapsed:  3.6min\n",
      "[Parallel(n_jobs=-1)]: Done 200 out of 200 | elapsed:  3.8min finished\n",
      "[Parallel(n_jobs=4)]: Using backend ThreadingBackend with 4 concurrent workers.\n",
      "[Parallel(n_jobs=4)]: Done  42 tasks      | elapsed:    2.4s\n",
      "[Parallel(n_jobs=4)]: Done 192 tasks      | elapsed:   10.5s\n",
      "[Parallel(n_jobs=4)]: Done 200 out of 200 | elapsed:   11.0s finished\n"
     ]
    },
    {
     "data": {
      "text/plain": [
       "0.9997625567885015"
      ]
     },
     "execution_count": 43,
     "metadata": {},
     "output_type": "execute_result"
    }
   ],
   "source": [
    "bg = RandomForestClassifier(n_estimators=200, n_jobs=-1, verbose=True,)\n",
    "bg.fit(X, y,)\n",
    "bg.score(X, y)"
   ]
  },
  {
   "cell_type": "code",
   "execution_count": 45,
   "metadata": {},
   "outputs": [
    {
     "name": "stderr",
     "output_type": "stream",
     "text": [
      "[Parallel(n_jobs=4)]: Using backend ThreadingBackend with 4 concurrent workers.\n",
      "[Parallel(n_jobs=4)]: Done  42 tasks      | elapsed:    2.6s\n",
      "[Parallel(n_jobs=4)]: Done 192 tasks      | elapsed:   10.7s\n",
      "[Parallel(n_jobs=4)]: Done 200 out of 200 | elapsed:   11.1s finished\n"
     ]
    }
   ],
   "source": [
    "from sklearn.metrics import roc_auc_score\n",
    "\n",
    "\n",
    "\n",
    "y_score = bg.predict_proba(X)"
   ]
  },
  {
   "cell_type": "code",
   "execution_count": 52,
   "metadata": {},
   "outputs": [
    {
     "data": {
      "text/plain": [
       "3.511874101370798e-05"
      ]
     },
     "execution_count": 52,
     "metadata": {},
     "output_type": "execute_result"
    }
   ],
   "source": [
    "roc_auc_score(y,  y_score[:, 0])"
   ]
  },
  {
   "cell_type": "code",
   "execution_count": 47,
   "metadata": {},
   "outputs": [
    {
     "data": {
      "text/plain": [
       "array([[1., 0.],\n",
       "       [1., 0.],\n",
       "       [1., 0.],\n",
       "       ...,\n",
       "       [1., 0.],\n",
       "       [1., 0.],\n",
       "       [1., 0.]])"
      ]
     },
     "execution_count": 47,
     "metadata": {},
     "output_type": "execute_result"
    }
   ],
   "source": [
    "y_score"
   ]
  },
  {
   "cell_type": "code",
   "execution_count": 35,
   "metadata": {},
   "outputs": [
    {
     "name": "stdout",
     "output_type": "stream",
     "text": [
      "0.40041260364793513 Общий вес\n",
      "0.34394059594912213 Общий пробег\n",
      "0.10035347006670926 Пробег за инт-л\n",
      "0.0964526825957706 Вес за инт-л\n",
      "0.034372947630097093 Пробег с грузом\n",
      "0.014853046561099013 Ср. скорость без груза\n",
      "0.005003165351872965 Ср.скорость с грузом\n",
      "0.004611488197393904 Кол-во превышений скорости\n"
     ]
    }
   ],
   "source": [
    "for features_, features__ in sorted(zip(bg.feature_importances_, features))[::-1]:\n",
    "    print(features_, features__)"
   ]
  },
  {
   "cell_type": "code",
   "execution_count": 30,
   "metadata": {},
   "outputs": [],
   "source": [
    "RandomForestClassifier(max_depth=3)"
   ]
  },
  {
   "cell_type": "code",
   "execution_count": 32,
   "metadata": {},
   "outputs": [
    {
     "name": "stderr",
     "output_type": "stream",
     "text": [
      "[Parallel(n_jobs=4)]: Using backend ThreadingBackend with 4 concurrent workers.\n",
      "[Parallel(n_jobs=4)]: Done  42 tasks      | elapsed:    1.3s\n",
      "[Parallel(n_jobs=4)]: Done 192 tasks      | elapsed:    5.9s\n",
      "[Parallel(n_jobs=4)]: Done 300 out of 300 | elapsed:    9.3s finished\n"
     ]
    },
    {
     "data": {
      "text/plain": [
       "0.9989911301769215"
      ]
     },
     "execution_count": 32,
     "metadata": {},
     "output_type": "execute_result"
    }
   ],
   "source": []
  },
  {
   "cell_type": "code",
   "execution_count": 39,
   "metadata": {},
   "outputs": [
    {
     "data": {
      "text/plain": [
       "'best'"
      ]
     },
     "execution_count": 39,
     "metadata": {},
     "output_type": "execute_result"
    }
   ],
   "source": [
    "bg.base_estimator."
   ]
  },
  {
   "cell_type": "code",
   "execution_count": null,
   "metadata": {},
   "outputs": [],
   "source": []
  }
 ],
 "metadata": {
  "kernelspec": {
   "display_name": "Python 3",
   "language": "python",
   "name": "python3"
  },
  "language_info": {
   "codemirror_mode": {
    "name": "ipython",
    "version": 3
   },
   "file_extension": ".py",
   "mimetype": "text/x-python",
   "name": "python",
   "nbconvert_exporter": "python",
   "pygments_lexer": "ipython3",
   "version": "3.7.4"
  }
 },
 "nbformat": 4,
 "nbformat_minor": 2
}
